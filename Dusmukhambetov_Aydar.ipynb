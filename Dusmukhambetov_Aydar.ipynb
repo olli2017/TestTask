{
 "cells": [
  {
   "cell_type": "code",
   "execution_count": 1,
   "metadata": {},
   "outputs": [],
   "source": [
    "import numpy as np\n",
    "import pandas as pd\n",
    "import collections\n",
    "\n",
    "import matplotlib\n",
    "import matplotlib.pyplot as plt\n",
    "import numpy as np\n",
    "%matplotlib inline"
   ]
  },
  {
   "cell_type": "code",
   "execution_count": 2,
   "metadata": {},
   "outputs": [],
   "source": [
    "from sklearn.metrics import accuracy_score\n",
    "from sklearn.metrics import classification_report\n",
    "from sklearn.metrics import f1_score"
   ]
  },
  {
   "cell_type": "code",
   "execution_count": 3,
   "metadata": {},
   "outputs": [
    {
     "data": {
      "text/html": [
       "<div>\n",
       "<style scoped>\n",
       "    .dataframe tbody tr th:only-of-type {\n",
       "        vertical-align: middle;\n",
       "    }\n",
       "\n",
       "    .dataframe tbody tr th {\n",
       "        vertical-align: top;\n",
       "    }\n",
       "\n",
       "    .dataframe thead th {\n",
       "        text-align: right;\n",
       "    }\n",
       "</style>\n",
       "<table border=\"1\" class=\"dataframe\">\n",
       "  <thead>\n",
       "    <tr style=\"text-align: right;\">\n",
       "      <th></th>\n",
       "      <th>MODEL_ID</th>\n",
       "      <th>PHOTO_ID</th>\n",
       "      <th>0</th>\n",
       "      <th>1</th>\n",
       "      <th>2</th>\n",
       "      <th>3</th>\n",
       "      <th>4</th>\n",
       "      <th>GROUND_TRUTH</th>\n",
       "    </tr>\n",
       "  </thead>\n",
       "  <tbody>\n",
       "    <tr>\n",
       "      <th>0</th>\n",
       "      <td>model_id_1</td>\n",
       "      <td>juhtlgtayx.jpg</td>\n",
       "      <td>0.0</td>\n",
       "      <td>0.0</td>\n",
       "      <td>0.0</td>\n",
       "      <td>0.5</td>\n",
       "      <td>0.5</td>\n",
       "      <td>4</td>\n",
       "    </tr>\n",
       "    <tr>\n",
       "      <th>1</th>\n",
       "      <td>model_id_1</td>\n",
       "      <td>ybysardiao.jpg</td>\n",
       "      <td>0.0</td>\n",
       "      <td>0.0</td>\n",
       "      <td>1.0</td>\n",
       "      <td>0.0</td>\n",
       "      <td>0.0</td>\n",
       "      <td>3</td>\n",
       "    </tr>\n",
       "    <tr>\n",
       "      <th>2</th>\n",
       "      <td>model_id_1</td>\n",
       "      <td>mpwobelagh.jpg</td>\n",
       "      <td>1.0</td>\n",
       "      <td>0.0</td>\n",
       "      <td>0.0</td>\n",
       "      <td>0.0</td>\n",
       "      <td>0.0</td>\n",
       "      <td>0</td>\n",
       "    </tr>\n",
       "    <tr>\n",
       "      <th>3</th>\n",
       "      <td>model_id_1</td>\n",
       "      <td>sflqkwznmf.jpg</td>\n",
       "      <td>0.0</td>\n",
       "      <td>0.0</td>\n",
       "      <td>0.0</td>\n",
       "      <td>1.0</td>\n",
       "      <td>0.0</td>\n",
       "      <td>3</td>\n",
       "    </tr>\n",
       "    <tr>\n",
       "      <th>4</th>\n",
       "      <td>model_id_1</td>\n",
       "      <td>oulwylryjo.jpg</td>\n",
       "      <td>0.0</td>\n",
       "      <td>0.0</td>\n",
       "      <td>1.0</td>\n",
       "      <td>0.0</td>\n",
       "      <td>0.0</td>\n",
       "      <td>2</td>\n",
       "    </tr>\n",
       "  </tbody>\n",
       "</table>\n",
       "</div>"
      ],
      "text/plain": [
       "     MODEL_ID        PHOTO_ID    0    1    2    3    4  GROUND_TRUTH\n",
       "0  model_id_1  juhtlgtayx.jpg  0.0  0.0  0.0  0.5  0.5             4\n",
       "1  model_id_1  ybysardiao.jpg  0.0  0.0  1.0  0.0  0.0             3\n",
       "2  model_id_1  mpwobelagh.jpg  1.0  0.0  0.0  0.0  0.0             0\n",
       "3  model_id_1  sflqkwznmf.jpg  0.0  0.0  0.0  1.0  0.0             3\n",
       "4  model_id_1  oulwylryjo.jpg  0.0  0.0  1.0  0.0  0.0             2"
      ]
     },
     "execution_count": 3,
     "metadata": {},
     "output_type": "execute_result"
    }
   ],
   "source": [
    "data=pd.read_csv('student_dataset.csv', names=[\"MODEL_ID\", \"PHOTO_ID\", \"0\", \"1\", \"2\", \"3\",\n",
    "\"4\", \"GROUND_TRUTH\"])\n",
    "data.head()"
   ]
  },
  {
   "cell_type": "markdown",
   "metadata": {},
   "source": [
    "В колонке GROUND_TRUTH - реальный класс данного фото. Только классы помечены как 0,1,2,3,4, а колонки CLASS_1_SCORE и так далее начинаются с 1. Переименовал столбцы с вероятностью соответстующего класса в названия классов, начиная с 0."
   ]
  },
  {
   "cell_type": "code",
   "execution_count": 4,
   "metadata": {},
   "outputs": [
    {
     "name": "stdout",
     "output_type": "stream",
     "text": [
      "(100000, 8) (100000, 8) (100000, 8)\n"
     ]
    }
   ],
   "source": [
    "data['GROUND_TRUTH'] = data['GROUND_TRUTH'].astype(int)\n",
    "\n",
    "model1 = data[:100000]\n",
    "model2 = data[100000:200000]\n",
    "model3 = data[200000:]\n",
    "print(model1.shape, model2.shape, model3.shape)"
   ]
  },
  {
   "cell_type": "markdown",
   "metadata": {},
   "source": [
    "Разбил датасет по моделям"
   ]
  },
  {
   "cell_type": "code",
   "execution_count": 5,
   "metadata": {},
   "outputs": [
    {
     "data": {
      "text/plain": [
       "0    3\n",
       "1    2\n",
       "2    0\n",
       "3    3\n",
       "4    2\n",
       "dtype: int32"
      ]
     },
     "execution_count": 5,
     "metadata": {},
     "output_type": "execute_result"
    }
   ],
   "source": [
    "model1Pred = model1[['0', '1', '2', '3', '4']].idxmax(axis=1).astype(int)\n",
    "model2Pred = model2[['0', '1', '2', '3', '4']].idxmax(axis=1).astype(int)\n",
    "model3Pred = model3[['0', '1', '2', '3', '4']].idxmax(axis=1).astype(int)\n",
    "model1Pred.head()"
   ]
  },
  {
   "cell_type": "markdown",
   "metadata": {},
   "source": [
    "За предсказание модели беру класс, для которого была наибольшая вероятность."
   ]
  },
  {
   "cell_type": "code",
   "execution_count": 6,
   "metadata": {},
   "outputs": [
    {
     "data": {
      "text/plain": [
       "array([0. , 0.5, 1. ])"
      ]
     },
     "execution_count": 6,
     "metadata": {},
     "output_type": "execute_result"
    }
   ],
   "source": [
    "np.unique(model1[['0', '1', '2', '3', '4']].values)"
   ]
  },
  {
   "cell_type": "markdown",
   "metadata": {},
   "source": [
    "В модели 1 встречаются только вероятности 0, 0.5 и 1. Непонятно, какой ответ выбирать, когда модель дает 50% за один ответ и 50% за другой ответ.(Выбирал функцией idxmax(); она между 0.5 и 0.5 выбирала тот класс, что раньше встретился)"
   ]
  },
  {
   "cell_type": "code",
   "execution_count": 7,
   "metadata": {},
   "outputs": [
    {
     "data": {
      "text/plain": [
       "array([1.0000e-05, 2.0000e-05, 3.0000e-05, ..., 9.9232e-01, 9.9282e-01,\n",
       "       9.9782e-01])"
      ]
     },
     "execution_count": 7,
     "metadata": {},
     "output_type": "execute_result"
    }
   ],
   "source": [
    "np.unique(model2[['0', '1', '2', '3', '4']].values)"
   ]
  },
  {
   "cell_type": "markdown",
   "metadata": {},
   "source": [
    "В модели 2 уже видно, что она выдает различные вероятности(дробные числа) для разных классов. Логично предсказывать тот класс, для которого модель выдает наибольшую вероятность. "
   ]
  },
  {
   "cell_type": "code",
   "execution_count": 8,
   "metadata": {},
   "outputs": [
    {
     "data": {
      "text/plain": [
       "array([0., 1.])"
      ]
     },
     "execution_count": 8,
     "metadata": {},
     "output_type": "execute_result"
    }
   ],
   "source": [
    "np.unique(model3[['0', '1', '2', '3', '4']].values)"
   ]
  },
  {
   "cell_type": "markdown",
   "metadata": {},
   "source": [
    "Модель 3 выдает только вероятности 0 и 1. Здесь сразу понятно, что она предсказала."
   ]
  },
  {
   "cell_type": "code",
   "execution_count": 9,
   "metadata": {},
   "outputs": [
    {
     "name": "stdout",
     "output_type": "stream",
     "text": [
      "Counter({4: 20151, 1: 20093, 3: 19969, 0: 19951, 2: 19836})\n"
     ]
    }
   ],
   "source": [
    "print(collections.Counter((model1['GROUND_TRUTH'])))"
   ]
  },
  {
   "cell_type": "markdown",
   "metadata": {},
   "source": [
    "Для данного датасета accuracy является хорошей метрикой, потому что количество экземпляров в каждом классе примерно равное."
   ]
  },
  {
   "cell_type": "code",
   "execution_count": 10,
   "metadata": {},
   "outputs": [
    {
     "name": "stdout",
     "output_type": "stream",
     "text": [
      "0.20151\n"
     ]
    }
   ],
   "source": [
    "baseRate = 20151 / 100000\n",
    "print(baseRate)"
   ]
  },
  {
   "cell_type": "markdown",
   "metadata": {},
   "source": [
    "Класс 4 - самый частый класс. Если предсказывать только этим классом, то точность примерно 20%"
   ]
  },
  {
   "cell_type": "code",
   "execution_count": 11,
   "metadata": {},
   "outputs": [
    {
     "name": "stdout",
     "output_type": "stream",
     "text": [
      "0.53848 0.66607 0.59298\n"
     ]
    }
   ],
   "source": [
    "accuracy1 = accuracy_score(model1['GROUND_TRUTH'], model1Pred)\n",
    "accuracy2 = accuracy_score(model2['GROUND_TRUTH'], model2Pred)\n",
    "accuracy3 = accuracy_score(model3['GROUND_TRUTH'], model3Pred)\n",
    "print(accuracy1, accuracy2, accuracy3)"
   ]
  },
  {
   "cell_type": "markdown",
   "metadata": {},
   "source": [
    "accuracy у второй модели лучше."
   ]
  },
  {
   "cell_type": "code",
   "execution_count": 12,
   "metadata": {},
   "outputs": [
    {
     "name": "stdout",
     "output_type": "stream",
     "text": [
      "              precision    recall  f1-score   support\n",
      "\n",
      "           0       0.68      0.89      0.77     19951\n",
      "           1       0.45      0.52      0.49     20093\n",
      "           2       0.40      0.42      0.41     19836\n",
      "           3       0.43      0.40      0.42     19969\n",
      "           4       0.84      0.45      0.59     20151\n",
      "\n",
      "   micro avg       0.54      0.54      0.54    100000\n",
      "   macro avg       0.56      0.54      0.53    100000\n",
      "weighted avg       0.56      0.54      0.53    100000\n",
      "\n"
     ]
    }
   ],
   "source": [
    "cr1 = classification_report(model1['GROUND_TRUTH'], model1Pred)\n",
    "print(cr1)"
   ]
  },
  {
   "cell_type": "code",
   "execution_count": 13,
   "metadata": {},
   "outputs": [
    {
     "name": "stdout",
     "output_type": "stream",
     "text": [
      "              precision    recall  f1-score   support\n",
      "\n",
      "           0       0.68      0.97      0.80     19951\n",
      "           1       0.59      0.59      0.59     20093\n",
      "           2       0.66      0.38      0.48     19836\n",
      "           3       0.65      0.54      0.59     19969\n",
      "           4       0.73      0.85      0.78     20151\n",
      "\n",
      "   micro avg       0.67      0.67      0.67    100000\n",
      "   macro avg       0.66      0.67      0.65    100000\n",
      "weighted avg       0.66      0.67      0.65    100000\n",
      "\n"
     ]
    }
   ],
   "source": [
    "cr2 = classification_report(model2['GROUND_TRUTH'], model2Pred)\n",
    "print(cr2)"
   ]
  },
  {
   "cell_type": "code",
   "execution_count": 14,
   "metadata": {},
   "outputs": [
    {
     "name": "stdout",
     "output_type": "stream",
     "text": [
      "              precision    recall  f1-score   support\n",
      "\n",
      "           0       0.78      0.79      0.78     19951\n",
      "           1       0.52      0.52      0.52     20093\n",
      "           2       0.45      0.46      0.46     19836\n",
      "           3       0.48      0.48      0.48     19969\n",
      "           4       0.75      0.71      0.73     20151\n",
      "\n",
      "   micro avg       0.59      0.59      0.59    100000\n",
      "   macro avg       0.59      0.59      0.59    100000\n",
      "weighted avg       0.60      0.59      0.59    100000\n",
      "\n"
     ]
    }
   ],
   "source": [
    "cr3 = classification_report(model3['GROUND_TRUTH'], model3Pred)\n",
    "print(cr3)"
   ]
  },
  {
   "cell_type": "markdown",
   "metadata": {},
   "source": [
    "F-мера достигает максимума при precision и recall, равными единице, и близка к нулю, если один из аргументов близок к нулю."
   ]
  },
  {
   "cell_type": "code",
   "execution_count": 15,
   "metadata": {},
   "outputs": [],
   "source": [
    "f1_1 = f1_score(model1['GROUND_TRUTH'], model1Pred, average=None) \n",
    "f1_2 = f1_score(model2['GROUND_TRUTH'], model2Pred, average=None) \n",
    "f1_3 = f1_score(model3['GROUND_TRUTH'], model3Pred, average=None) "
   ]
  },
  {
   "cell_type": "code",
   "execution_count": 16,
   "metadata": {},
   "outputs": [
    {
     "data": {
      "image/png": "[encoded data removed]",
      "text/plain": [
       "<Figure size 432x288 with 1 Axes>"
      ]
     },
     "metadata": {
      "needs_background": "light"
     },
     "output_type": "display_data"
    }
   ],
   "source": [
    "labels = ['0', '1', '2', '3', '4']\n",
    "\n",
    "x = np.arange(len(labels))\n",
    "width = 0.3 \n",
    "opacity = 0.9\n",
    "\n",
    "fig, ax = plt.subplots()\n",
    "\n",
    "ax.bar(x, f1_1, width, alpha=opacity, color='r', label='Model1')\n",
    "ax.bar(x+width, f1_2, width, alpha=opacity, color='b', label='Model2')\n",
    "ax.bar(x+2*width, f1_3, width, alpha=opacity, color='k', label='Model3')\n",
    "\n",
    "ax.set_xlabel('Seasons')\n",
    "ax.set_ylabel('Points')\n",
    "ax.set_title('f1-score for models')\n",
    "ax.set_xticks(x + width)\n",
    "ax.set_xticklabels(labels)\n",
    "ax.legend(ncol=3)\n",
    "plt.show()\n"
   ]
  },
  {
   "cell_type": "markdown",
   "metadata": {},
   "source": [
    "Для всех классов f1-score(F-мера) лучше у модели 2. На втором месте модель 3. Интуитивно понятно, что и среднее f1-score будет лучше у модели 2. Но все же вычислим средние."
   ]
  },
  {
   "cell_type": "code",
   "execution_count": 17,
   "metadata": {},
   "outputs": [
    {
     "name": "stdout",
     "output_type": "stream",
     "text": [
      "0.5344264557959706 0.649483330902616 0.5939421798566817\n"
     ]
    }
   ],
   "source": [
    "f1_avg_1 = f1_score(model1['GROUND_TRUTH'], model1Pred, average='weighted') \n",
    "f1_avg_2 = f1_score(model2['GROUND_TRUTH'], model2Pred, average='weighted') \n",
    "f1_avg_3 = f1_score(model3['GROUND_TRUTH'], model3Pred, average='weighted') \n",
    "print(f1_avg_1, f1_avg_2, f1_avg_3)"
   ]
  },
  {
   "cell_type": "markdown",
   "metadata": {},
   "source": [
    "f1-score выше у модели 2"
   ]
  },
  {
   "cell_type": "markdown",
   "metadata": {},
   "source": [
    "## Итог:\n",
    "Модель 2 дает лучший результат на данном датасете. Accuracy и f1-score выше, чем у других моделей."
   ]
  }
 ],
 "metadata": {
  "kernelspec": {
   "display_name": "Python 3",
   "language": "python",
   "name": "python3"
  },
  "language_info": {
   "codemirror_mode": {
    "name": "ipython",
    "version": 3
   },
   "file_extension": ".py",
   "mimetype": "text/x-python",
   "name": "python",
   "nbconvert_exporter": "python",
   "pygments_lexer": "ipython3",
   "version": "3.7.1"
  }
 },
 "nbformat": 4,
 "nbformat_minor": 2
}
